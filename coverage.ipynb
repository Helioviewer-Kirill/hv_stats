{
 "cells": [
  {
   "cell_type": "code",
   "execution_count": 1,
   "metadata": {},
   "outputs": [],
   "source": [
    "import numpy as np\n",
    "import time\n",
    "import datetime\n",
    "import json\n",
    "import pandas as pd\n",
    "\n",
    "import mysql.connector\n",
    "from mysql.connector import Error\n",
    "\n",
    "from bokeh.plotting import *\n",
    "from bokeh.layouts import gridplot\n",
    "from bokeh.models import ColumnDataSource, LogColorMapper, ColorMapper, LogTicker, ColorBar, BasicTicker, ColorBar, LinearColorMapper, PrintfTickFormatter\n",
    "# from .chart_constants import (PLOT_FORMATS, ORANGE, BLUE, DARK_GRAY, AXIS_FORMATS, ORANGE_SHADOW, \n",
    "#                              FONT_PROPS_SM, FONT_PROPS_MD, FONT_PROPS_LG, GREEN)\n",
    "from bokeh.io import show, output_notebook\n",
    "import bokeh.palettes as bp\n",
    "\n",
    "import urllib\n",
    "import matplotlib.pyplot as plt\n",
    "from matplotlib.ticker import (MultipleLocator, FormatStrFormatter, AutoMinorLocator)"
   ]
  },
  {
   "cell_type": "code",
   "execution_count": 2,
   "metadata": {},
   "outputs": [],
   "source": [
    "json_url = urllib.request.urlopen('https://api.helioviewer.org/?action=getDataSources')\n",
    "hv_keys = json.loads(json_url.read())"
   ]
  },
  {
   "cell_type": "code",
   "execution_count": 3,
   "metadata": {
    "scrolled": true
   },
   "outputs": [
    {
     "name": "stdout",
     "output_type": "stream",
     "text": [
      "Total number of rows in data is:  7056352\n",
      "\n",
      "Printing each laptop record\n",
      "MySQL connection is closed 107.39623022079468\n"
     ]
    }
   ],
   "source": [
    "start_time=time.time()\n",
    "try:\n",
    "    connection = mysql.connector.connect(host='localhost',\n",
    "                                         database='hv',\n",
    "                                         user='hv_varun',\n",
    "                                         password='Helioviewer@2020')\n",
    "\n",
    "    sql_select_Query = \"SELECT filepath, date, sourceid FROM data WHERE sourceId=%s;\"%hv_keys['SDO']['AIA']['1600']['sourceId']\n",
    "#     sql_select_Query = \"SELECT count(*) FROM data WHERE filepath LIKE '/AIA/1600/%';\"\n",
    "#     sql_select_Query = \"SELECT * FROM data LIMIT 20;\"\n",
    "    cursor = connection.cursor()\n",
    "    cursor.execute(sql_select_Query)\n",
    "    records = cursor.fetchall()\n",
    "    print(\"Total number of rows in data is: \", cursor.rowcount)\n",
    "\n",
    "    print(\"\\nPrinting each laptop record\")\n",
    "#     for row in records:\n",
    "#         print(\"Index = \", row[0])\n",
    "#         print(\"Location = \", row[1])\n",
    "#         print(\"Filename  = \", row[2])\n",
    "#         print(\"OBS_DATE  = \", row[3], \"\\n\")\n",
    "\n",
    "except Error as e:\n",
    "    print(\"Error reading data from MySQL table\", e)\n",
    "finally:\n",
    "    if (connection.is_connected()):\n",
    "        connection.close()\n",
    "        cursor.close()\n",
    "        print(\"MySQL connection is closed\", time.time()-start_time )"
   ]
  },
  {
   "cell_type": "code",
   "execution_count": 4,
   "metadata": {
    "scrolled": true
   },
   "outputs": [
    {
     "data": {
      "text/html": [
       "<div>\n",
       "<style scoped>\n",
       "    .dataframe tbody tr th:only-of-type {\n",
       "        vertical-align: middle;\n",
       "    }\n",
       "\n",
       "    .dataframe tbody tr th {\n",
       "        vertical-align: top;\n",
       "    }\n",
       "\n",
       "    .dataframe thead th {\n",
       "        text-align: right;\n",
       "    }\n",
       "</style>\n",
       "<table border=\"1\" class=\"dataframe\">\n",
       "  <thead>\n",
       "    <tr style=\"text-align: right;\">\n",
       "      <th></th>\n",
       "      <th>filepath</th>\n",
       "      <th>date</th>\n",
       "      <th>sourceid</th>\n",
       "    </tr>\n",
       "  </thead>\n",
       "  <tbody>\n",
       "    <tr>\n",
       "      <th>0</th>\n",
       "      <td>/AIA/1600/2010/06/02</td>\n",
       "      <td>2010-06-02 00:05:30</td>\n",
       "      <td>15</td>\n",
       "    </tr>\n",
       "    <tr>\n",
       "      <th>1</th>\n",
       "      <td>/AIA/1600/2010/06/02</td>\n",
       "      <td>2010-06-02 00:05:54</td>\n",
       "      <td>15</td>\n",
       "    </tr>\n",
       "    <tr>\n",
       "      <th>2</th>\n",
       "      <td>/AIA/1600/2010/06/02</td>\n",
       "      <td>2010-06-02 00:06:18</td>\n",
       "      <td>15</td>\n",
       "    </tr>\n",
       "    <tr>\n",
       "      <th>3</th>\n",
       "      <td>/AIA/1600/2010/06/23</td>\n",
       "      <td>2010-06-23 00:00:17</td>\n",
       "      <td>15</td>\n",
       "    </tr>\n",
       "    <tr>\n",
       "      <th>4</th>\n",
       "      <td>/AIA/1600/2010/06/23</td>\n",
       "      <td>2010-06-23 00:00:41</td>\n",
       "      <td>15</td>\n",
       "    </tr>\n",
       "    <tr>\n",
       "      <th>...</th>\n",
       "      <td>...</td>\n",
       "      <td>...</td>\n",
       "      <td>...</td>\n",
       "    </tr>\n",
       "    <tr>\n",
       "      <th>7056347</th>\n",
       "      <td>/AIA/2020/08/03/1600</td>\n",
       "      <td>2020-08-03 13:59:26</td>\n",
       "      <td>15</td>\n",
       "    </tr>\n",
       "    <tr>\n",
       "      <th>7056348</th>\n",
       "      <td>/AIA/2020/08/03/1600</td>\n",
       "      <td>2020-08-03 14:00:14</td>\n",
       "      <td>15</td>\n",
       "    </tr>\n",
       "    <tr>\n",
       "      <th>7056349</th>\n",
       "      <td>/AIA/2020/08/03/1600</td>\n",
       "      <td>2020-08-03 14:01:02</td>\n",
       "      <td>15</td>\n",
       "    </tr>\n",
       "    <tr>\n",
       "      <th>7056350</th>\n",
       "      <td>/AIA/2020/08/03/1600</td>\n",
       "      <td>2020-08-03 14:01:50</td>\n",
       "      <td>15</td>\n",
       "    </tr>\n",
       "    <tr>\n",
       "      <th>7056351</th>\n",
       "      <td>/AIA/2020/08/03/1600</td>\n",
       "      <td>2020-08-03 14:02:38</td>\n",
       "      <td>15</td>\n",
       "    </tr>\n",
       "  </tbody>\n",
       "</table>\n",
       "<p>7056352 rows × 3 columns</p>\n",
       "</div>"
      ],
      "text/plain": [
       "                     filepath                date  sourceid\n",
       "0        /AIA/1600/2010/06/02 2010-06-02 00:05:30        15\n",
       "1        /AIA/1600/2010/06/02 2010-06-02 00:05:54        15\n",
       "2        /AIA/1600/2010/06/02 2010-06-02 00:06:18        15\n",
       "3        /AIA/1600/2010/06/23 2010-06-23 00:00:17        15\n",
       "4        /AIA/1600/2010/06/23 2010-06-23 00:00:41        15\n",
       "...                       ...                 ...       ...\n",
       "7056347  /AIA/2020/08/03/1600 2020-08-03 13:59:26        15\n",
       "7056348  /AIA/2020/08/03/1600 2020-08-03 14:00:14        15\n",
       "7056349  /AIA/2020/08/03/1600 2020-08-03 14:01:02        15\n",
       "7056350  /AIA/2020/08/03/1600 2020-08-03 14:01:50        15\n",
       "7056351  /AIA/2020/08/03/1600 2020-08-03 14:02:38        15\n",
       "\n",
       "[7056352 rows x 3 columns]"
      ]
     },
     "execution_count": 4,
     "metadata": {},
     "output_type": "execute_result"
    }
   ],
   "source": [
    "hv = pd.DataFrame(records, columns=cursor.column_names)\n",
    "hv = hv.sort_values('date').reset_index(drop=True)\n",
    "hv"
   ]
  },
  {
   "cell_type": "code",
   "execution_count": 5,
   "metadata": {},
   "outputs": [],
   "source": [
    "ym_min = hv['date'].min().year + hv['date'].min().month/12\n",
    "ym_max = hv['date'].max().year + hv['date'].max().month/12"
   ]
  },
  {
   "cell_type": "code",
   "execution_count": 6,
   "metadata": {
    "scrolled": true
   },
   "outputs": [],
   "source": [
    "day, ym = np.meshgrid(range(1,33), np.arange(ym_min, ym_max+1.1/12, 1/12))\n",
    "coverage = np.zeros((ym.shape))"
   ]
  },
  {
   "cell_type": "code",
   "execution_count": null,
   "metadata": {
    "scrolled": true
   },
   "outputs": [],
   "source": [
    "for i in range(coverage.shape[0]):\n",
    "    for j in range(coverage.shape[1]):\n",
    "        try:\n",
    "            edge = datetime.datetime(int(round(ym[i,j]//1)), int(round(ym[i,j]%1*12)), day[i,j])\n",
    "            coverage[i,j] = len(hv[(hv['date'] >= edge) & (hv['date'] < (edge + datetime.timedelta(days=1)))])\n",
    "        except ValueError as V:\n",
    "            coverage[i,j] = np.nan\n",
    "#             print('ValueError', V, '::' ,ym[i,j],day[i,j], int(round(ym[i,j]//1)), int(round(ym[i,j]%1*12)), day[i,j])"
   ]
  },
  {
   "cell_type": "code",
   "execution_count": null,
   "metadata": {},
   "outputs": [],
   "source": [
    "print(\"{:%b %d, %Y}\".format(datetime.datetime(2003,1,1)))"
   ]
  },
  {
   "cell_type": "code",
   "execution_count": null,
   "metadata": {},
   "outputs": [],
   "source": [
    "year = pd.date_range(hv['date'].min(), hv['date'].max(), freq='M').to_period('M').to_timestamp()\n",
    "year = year.year.astype(str) + ' ' + year.month_name()# (year.year+year.month/12)#.astype(str)\n",
    "date = np.arange(1,32).astype(str)\n",
    "\n",
    "hv_cov = pd.DataFrame(data=coverage[:122,:31], index=year, columns=date)\n",
    "hv_cov.index.name='Year'\n",
    "hv_cov.columns.name = 'Date'\n",
    "hv_cov"
   ]
  },
  {
   "cell_type": "code",
   "execution_count": null,
   "metadata": {
    "scrolled": true
   },
   "outputs": [],
   "source": [
    "df = pd.DataFrame(hv_cov.stack(), columns=['coverage']).reset_index()\n",
    "# df['Year2'] = df['Year'].dt.year.astype(str) + ' ' + df['Year'].dt.month_name().astype('str')# (year.year+year.month/12)#.astype(str)\n",
    "\n",
    "df['Year']=df['Year'].astype(str)\n",
    "\n",
    "years = hv_cov.index.values#.astype(str)\n",
    "dates = hv_cov.columns.values.astype(str)\n",
    "\n",
    "colors = bp.Viridis[256]# [\"#75968f\", \"#a5bab7\", \"#c9d9d3\", \"#e2e2e2\", \"#dfccce\", \"#ddb7b1\", \"#cc7878\", \"#933b41\", \"#550b1d\"]\n",
    "mapper = LinearColorMapper(palette=colors, low=np.nanmin(df.coverage), high=np.nanmax(df.coverage))\n",
    "\n",
    "TOOLS = \"hover,save,pan,box_zoom,reset,wheel_zoom\"\n",
    "\n",
    "# output_file('AIA1600_coverage.html')\n",
    "p = figure(title=\"AIA 1600 Coverage ({0} - {1})\".format(years[0], years[-1]),\n",
    "#            x_axis_type='datetime',\n",
    "           x_range=years, y_range=list(reversed(dates)),\n",
    "           x_axis_location=\"above\", plot_width=1400, plot_height=800,\n",
    "           x_axis_label=\"Year Month\", y_axis_label=\"Date\",\n",
    "           tooltips=[('Date', '@Year @Date'), ('#Data Files', '@coverage')],\n",
    "           tools=TOOLS, toolbar_location='below')\n",
    "\n",
    "# p.grid.grid_line_color = None\n",
    "p.axis.axis_line_color = None\n",
    "p.axis.major_tick_line_color = None\n",
    "p.axis.major_label_text_font_size = \"7px\"\n",
    "p.axis.major_label_standoff = 0\n",
    "p.xaxis.major_label_orientation = np.pi / 3\n",
    "p.xaxis.axis_label_text_font_size = \"12pt\"\n",
    "p.yaxis.axis_label_text_font_size = \"12pt\"\n",
    "p.xaxis.visible = True\n",
    "p.xgrid.visible = True\n",
    "\n",
    "p.xaxis.major_label_text_font_size = \"7pt\"\n",
    "p.yaxis.major_label_text_font_size = \"8pt\"\n",
    "\n",
    "\n",
    "p.rect(x=\"Year\", y=\"Date\", width=1, height=1,\n",
    "       source=df,\n",
    "       fill_color={'field': 'coverage', 'transform': mapper},\n",
    "       line_color=None)\n",
    "\n",
    "color_bar = ColorBar(color_mapper=mapper, major_label_text_font_size=\"10px\",\n",
    "                     ticker=BasicTicker(desired_num_ticks=10),\n",
    "                     formatter=PrintfTickFormatter(format=\"%d\"),\n",
    "                     label_standoff=6, border_line_color=None, location=(0, 0))\n",
    "p.add_layout(color_bar, 'right')\n"
   ]
  },
  {
   "cell_type": "code",
   "execution_count": null,
   "metadata": {},
   "outputs": [],
   "source": [
    "output_notebook()\n",
    "show(p)"
   ]
  },
  {
   "cell_type": "code",
   "execution_count": null,
   "metadata": {},
   "outputs": [],
   "source": []
  }
 ],
 "metadata": {
  "kernelspec": {
   "display_name": "Python 3",
   "language": "python",
   "name": "python3"
  },
  "language_info": {
   "codemirror_mode": {
    "name": "ipython",
    "version": 3
   },
   "file_extension": ".py",
   "mimetype": "text/x-python",
   "name": "python",
   "nbconvert_exporter": "python",
   "pygments_lexer": "ipython3",
   "version": "3.7.4"
  }
 },
 "nbformat": 4,
 "nbformat_minor": 4
}
